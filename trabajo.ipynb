{
 "cells": [
  {
   "cell_type": "code",
   "execution_count": 1,
   "metadata": {},
   "outputs": [
    {
     "name": "stdout",
     "output_type": "stream",
     "text": [
      "Opera/9.23 (Windows NT 5.1; U; fi)\n"
     ]
    }
   ],
   "source": [
    "#Trabajo\n",
    "import pandas as pd \n",
    "import requests as req\n",
    "from bs4 import BeautifulSoup\n",
    "from selenium import webdriver\n",
    "import pandas as pd\n",
    "from selenium.webdriver.common.by import By\n",
    "from selenium.webdriver.support.ui import WebDriverWait\n",
    "from selenium.webdriver.common.keys import Keys  # manejar teclas\n",
    "import time\n",
    "import warnings\n",
    "from webdriver_manager.chrome import ChromeDriverManager\n",
    "PATH=ChromeDriverManager().install()\n",
    "warnings.filterwarnings('ignore')\n",
    "from fake_useragent import UserAgent\n",
    "usuario=UserAgent().random\n",
    "print(usuario)"
   ]
  },
  {
   "attachments": {},
   "cell_type": "markdown",
   "metadata": {},
   "source": [
    "#Instaladores\n",
    "%pip install selenium\n",
    "%pip install bs4\n",
    "%pip install webdriver\n",
    "%pip install webdriver_manager\n",
    "%pip install fake_useragent"
   ]
  },
  {
   "cell_type": "code",
   "execution_count": 244,
   "metadata": {},
   "outputs": [],
   "source": [
    "class buscador:\n",
    "    def __init__(self, window_size=(1600, 1000)):\n",
    "        options = webdriver.ChromeOptions()\n",
    "        options.add_argument(f'window-size={window_size[0]},{window_size[1]}')\n",
    "        self.driver=webdriver.Chrome(PATH, options=options)\n",
    "        self.url='https://www.google.es/'\n",
    "        #establesco los parametros para mi buscador, esto es para directamente realizar las busquedas desde aqui y no cambiar las paginas.\n",
    "    def buscar(self, query):\n",
    "        self.query=query\n",
    "        self.driver.get(self.url+'/search?q='+self.query)\n",
    "        time.sleep(2)\n",
    "        try:\n",
    "            self.driver.find_element(By.CSS_SELECTOR, '#L2AGLb').click()\n",
    "        except:\n",
    "            pass\n",
    "    def mostrar(self,ruta):\n",
    "        self.dic={e.find_element(By.CSS_SELECTOR, 'h3').text:e.find_element(By.CSS_SELECTOR, 'a').get_attribute('href') for e in self.driver.find_elements(By.CSS_SELECTOR, ruta) if e.text !='' }\n",
    "        self.lista=[e.find_element(By.CSS_SELECTOR, 'h3').text for e in self.driver.find_elements(By.CSS_SELECTOR, ruta) if e.text !='']\n",
    "        return self.lista\n",
    "    #con esta def mostrar puedo ver los links de mi busqueda\n",
    "    def entrar_en_url(self,titulo,cookies=None):\n",
    "        self.cookies=cookies\n",
    "        self.driver.get(self.dic[self.lista[titulo]])\n",
    "        if self.cookies:\n",
    "            try:\n",
    "                self.driver.find_element(By.XPATH , self.cookies).click()\n",
    "            except:\n",
    "                 pass\n",
    "    #de esta manera lo que hago es guardar las cookies en selenium. me falta activar el guradado de cookikes\n",
    "    def mover(self,selection):\n",
    "        self.dic_titles={e.text:[ o.text + o.get_attribute('href')  for a in e.find_elements(By.CSS_SELECTOR, 'ul') for o in a.find_elements(By.CSS_SELECTOR, 'a')] for e in self.driver.find_elements(By.CSS_SELECTOR , selection) if e.text !=''}\n",
    "        self.list_titles=[e.text for e in self.driver.find_elements(By.CSS_SELECTOR , selection) if e.text !='']\n",
    "        return self.list_titles\n",
    "    def clic(self,titulo):\n",
    "        return self.dic_titles[self.list_titles[titulo]]\n",
    "    #esto otro es un funcion para la extraccion que aun no la defino porque me falta seguir investigando lo que quiero realizar, mientras procedere a otras pautas para mi proyecto de esta semana.\n",
    "    def cerrar(self):\n",
    "        self.driver.quit()"
   ]
  },
  {
   "cell_type": "code",
   "execution_count": 197,
   "metadata": {},
   "outputs": [
    {
     "ename": "SyntaxError",
     "evalue": "unexpected EOF while parsing (2128782350.py, line 7)",
     "output_type": "error",
     "traceback": [
      "\u001b[1;36m  Cell \u001b[1;32mIn[197], line 7\u001b[1;36m\u001b[0m\n\u001b[1;33m    return self.driver.get(self.dic_titles[self.list_titles[titulo]]\u001b[0m\n\u001b[1;37m                                                                    ^\u001b[0m\n\u001b[1;31mSyntaxError\u001b[0m\u001b[1;31m:\u001b[0m unexpected EOF while parsing\n"
     ]
    }
   ],
   "source": [
    "class automatic_nasa:\n",
    "    def mover(self,selection):\n",
    "        self.dic_titles={e.text:[ o.text + o.get_attribute('href')  for a in e.find_elements(By.CSS_SELECTOR, 'ul') for o in a.find_elements(By.CSS_SELECTOR, 'a')] for e in self.driver.find_elements(By.CSS_SELECTOR , selection) if e.text !=''}\n",
    "        self.list_titles=[e.text for e in self.driver.find_elements(By.CSS_SELECTOR , selection) if e.text !='']\n",
    "        self.dic_titles[self.list_titles[1]]\n",
    "#aqui se puede ver porque estoy haiendo pruebas arriba para pasarlo a limpio aqui."
   ]
  },
  {
   "attachments": {},
   "cell_type": "markdown",
   "metadata": {},
   "source": [
    "#OBJETIVO\n",
    "En esta parte del proyecto solo quiero poner aprueba mis funciones"
   ]
  },
  {
   "cell_type": "code",
   "execution_count": 245,
   "metadata": {},
   "outputs": [],
   "source": [
    "mibuscador=buscador()\n",
    "mibuscador.buscar('https://www.nasa.gov/topics/solarsystem/index.html')"
   ]
  },
  {
   "cell_type": "code",
   "execution_count": 246,
   "metadata": {},
   "outputs": [
    {
     "data": {
      "text/plain": [
       "['Solar System and Beyond - NASA',\n",
       " 'Solar System and Beyond Overview | NASA',\n",
       " 'NASA Solar System Exploration: Home',\n",
       " 'Solar System Videos | NASA',\n",
       " 'Solar System And Beyond Press Releases | NASA',\n",
       " 'Solar System and Beyond Images | NASA',\n",
       " 'Solar System - NASA',\n",
       " 'Solar System | NASA Space Place – NASA Science for Kids',\n",
       " 'The Sun-Earth Connection: Heliophysics - NASA',\n",
       " 'Watch the Skies | NASA']"
      ]
     },
     "execution_count": 246,
     "metadata": {},
     "output_type": "execute_result"
    }
   ],
   "source": [
    "mibuscador.mostrar('div.yuRUbf')"
   ]
  },
  {
   "cell_type": "code",
   "execution_count": 247,
   "metadata": {},
   "outputs": [],
   "source": [
    "mibuscador.entrar_en_url(0)"
   ]
  },
  {
   "cell_type": "code",
   "execution_count": 248,
   "metadata": {},
   "outputs": [
    {
     "data": {
      "text/plain": [
       "['Topics',\n",
       " 'Missions',\n",
       " 'Galleries',\n",
       " 'NASA TV',\n",
       " 'Follow NASA',\n",
       " 'Downloads',\n",
       " 'About',\n",
       " 'NASA Audiences']"
      ]
     },
     "execution_count": 248,
     "metadata": {},
     "output_type": "execute_result"
    }
   ],
   "source": [
    "mibuscador.mover('li.dropdown')"
   ]
  },
  {
   "cell_type": "code",
   "execution_count": 242,
   "metadata": {},
   "outputs": [
    {
     "data": {
      "text/plain": [
       "['https://www.nasa.gov/artemis-1',\n",
       " 'https://www.nasa.gov/exploration/commercial/crew/index.html',\n",
       " 'https://www.nasa.gov/mission_pages/hubble/main/index.html',\n",
       " 'https://www.nasa.gov/mission_pages/webb/main/index.html',\n",
       " 'https://www.nasa.gov/mission_pages/juno/main/index.html',\n",
       " 'https://www.nasa.gov/mission_pages/station/main/index.html',\n",
       " 'https://www.nasa.gov/perseverance',\n",
       " 'https://www.nasa.gov/content/goddard/parker-solar-probe',\n",
       " 'https://www.nasa.gov/X59',\n",
       " 'https://www.nasa.gov/launchschedule',\n",
       " 'https://www.nasa.gov/missions/']"
      ]
     },
     "execution_count": 242,
     "metadata": {},
     "output_type": "execute_result"
    }
   ],
   "source": [
    "mibuscador.clic(1)"
   ]
  },
  {
   "attachments": {},
   "cell_type": "markdown",
   "metadata": {},
   "source": [
    "Aqui comienzo a trabajar con las apis como los csv para obtener informacion de mi proyecto, como es muy denso solo dejo ahora una pequeña parte de lo que estoy investigando para la continuacion que hare hasta mi proyecto final"
   ]
  },
  {
   "cell_type": "code",
   "execution_count": 166,
   "metadata": {},
   "outputs": [],
   "source": [
    "with open('nasa', 'r') as archivo:\n",
    "    contenido = archivo.read()\n",
    "contenido=contenido.strip('\\n')"
   ]
  },
  {
   "cell_type": "code",
   "execution_count": 9,
   "metadata": {},
   "outputs": [],
   "source": [
    "data=req.get('https://data.nasa.gov/data.json?search=NASA+Spacecraft+Design+Criteria+%28SCDC%29').json()\n",
    "df = pd.json_normalize(data['dataset'])"
   ]
  },
  {
   "cell_type": "code",
   "execution_count": 85,
   "metadata": {},
   "outputs": [],
   "source": [
    "data=req.get(f'https://api.nasa.gov/techport/api/projects?api_key={contenido}').json()\n",
    "consultas=pd.json_normalize(data['projects'])"
   ]
  },
  {
   "cell_type": "code",
   "execution_count": 90,
   "metadata": {},
   "outputs": [
    {
     "data": {
      "text/html": [
       "<div>\n",
       "<style scoped>\n",
       "    .dataframe tbody tr th:only-of-type {\n",
       "        vertical-align: middle;\n",
       "    }\n",
       "\n",
       "    .dataframe tbody tr th {\n",
       "        vertical-align: top;\n",
       "    }\n",
       "\n",
       "    .dataframe thead th {\n",
       "        text-align: right;\n",
       "    }\n",
       "</style>\n",
       "<table border=\"1\" class=\"dataframe\">\n",
       "  <thead>\n",
       "    <tr style=\"text-align: right;\">\n",
       "      <th></th>\n",
       "      <th>acronym</th>\n",
       "      <th>projectId</th>\n",
       "      <th>title</th>\n",
       "      <th>website</th>\n",
       "      <th>lastUpdated</th>\n",
       "    </tr>\n",
       "  </thead>\n",
       "  <tbody>\n",
       "    <tr>\n",
       "      <th>0</th>\n",
       "      <td></td>\n",
       "      <td>106528</td>\n",
       "      <td></td>\n",
       "      <td></td>\n",
       "      <td>2023-5-2</td>\n",
       "    </tr>\n",
       "    <tr>\n",
       "      <th>1</th>\n",
       "      <td></td>\n",
       "      <td>106527</td>\n",
       "      <td></td>\n",
       "      <td></td>\n",
       "      <td>2023-5-2</td>\n",
       "    </tr>\n",
       "    <tr>\n",
       "      <th>2</th>\n",
       "      <td></td>\n",
       "      <td>106525</td>\n",
       "      <td></td>\n",
       "      <td></td>\n",
       "      <td>2023-5-2</td>\n",
       "    </tr>\n",
       "    <tr>\n",
       "      <th>3</th>\n",
       "      <td></td>\n",
       "      <td>94847</td>\n",
       "      <td></td>\n",
       "      <td></td>\n",
       "      <td>2023-5-1</td>\n",
       "    </tr>\n",
       "    <tr>\n",
       "      <th>4</th>\n",
       "      <td></td>\n",
       "      <td>90997</td>\n",
       "      <td></td>\n",
       "      <td></td>\n",
       "      <td>2023-5-1</td>\n",
       "    </tr>\n",
       "    <tr>\n",
       "      <th>...</th>\n",
       "      <td>...</td>\n",
       "      <td>...</td>\n",
       "      <td>...</td>\n",
       "      <td>...</td>\n",
       "      <td>...</td>\n",
       "    </tr>\n",
       "    <tr>\n",
       "      <th>16719</th>\n",
       "      <td></td>\n",
       "      <td>8437</td>\n",
       "      <td></td>\n",
       "      <td></td>\n",
       "      <td>2018-10-10</td>\n",
       "    </tr>\n",
       "    <tr>\n",
       "      <th>16720</th>\n",
       "      <td></td>\n",
       "      <td>8310</td>\n",
       "      <td></td>\n",
       "      <td></td>\n",
       "      <td>2018-10-10</td>\n",
       "    </tr>\n",
       "    <tr>\n",
       "      <th>16721</th>\n",
       "      <td></td>\n",
       "      <td>10118</td>\n",
       "      <td></td>\n",
       "      <td></td>\n",
       "      <td>2018-10-10</td>\n",
       "    </tr>\n",
       "    <tr>\n",
       "      <th>16722</th>\n",
       "      <td></td>\n",
       "      <td>5695</td>\n",
       "      <td></td>\n",
       "      <td></td>\n",
       "      <td>2018-10-10</td>\n",
       "    </tr>\n",
       "    <tr>\n",
       "      <th>16723</th>\n",
       "      <td></td>\n",
       "      <td>6639</td>\n",
       "      <td></td>\n",
       "      <td></td>\n",
       "      <td>2018-10-10</td>\n",
       "    </tr>\n",
       "  </tbody>\n",
       "</table>\n",
       "<p>16724 rows × 5 columns</p>\n",
       "</div>"
      ],
      "text/plain": [
       "      acronym  projectId title website lastUpdated\n",
       "0                 106528                  2023-5-2\n",
       "1                 106527                  2023-5-2\n",
       "2                 106525                  2023-5-2\n",
       "3                  94847                  2023-5-1\n",
       "4                  90997                  2023-5-1\n",
       "...       ...        ...   ...     ...         ...\n",
       "16719               8437                2018-10-10\n",
       "16720               8310                2018-10-10\n",
       "16721              10118                2018-10-10\n",
       "16722               5695                2018-10-10\n",
       "16723               6639                2018-10-10\n",
       "\n",
       "[16724 rows x 5 columns]"
      ]
     },
     "execution_count": 90,
     "metadata": {},
     "output_type": "execute_result"
    }
   ],
   "source": [
    "consultas"
   ]
  },
  {
   "cell_type": "code",
   "execution_count": 80,
   "metadata": {},
   "outputs": [],
   "source": [
    "data2=req.get(f'https://api.nasa.gov/techport/api/projects/106528?api_key={contenido}').json()"
   ]
  },
  {
   "cell_type": "code",
   "execution_count": 81,
   "metadata": {},
   "outputs": [
    {
     "data": {
      "text/html": [
       "<div>\n",
       "<style scoped>\n",
       "    .dataframe tbody tr th:only-of-type {\n",
       "        vertical-align: middle;\n",
       "    }\n",
       "\n",
       "    .dataframe tbody tr th {\n",
       "        vertical-align: top;\n",
       "    }\n",
       "\n",
       "    .dataframe thead th {\n",
       "        text-align: right;\n",
       "    }\n",
       "</style>\n",
       "<table border=\"1\" class=\"dataframe\">\n",
       "  <thead>\n",
       "    <tr style=\"text-align: right;\">\n",
       "      <th></th>\n",
       "      <th>acronym</th>\n",
       "      <th>projectId</th>\n",
       "      <th>title</th>\n",
       "      <th>primaryTaxonomyNodes</th>\n",
       "      <th>additionalTaxonomyNodes</th>\n",
       "      <th>startTrl</th>\n",
       "      <th>currentTrl</th>\n",
       "      <th>endTrl</th>\n",
       "      <th>benefits</th>\n",
       "      <th>description</th>\n",
       "      <th>...</th>\n",
       "      <th>leadOrganization.stateTerritory.country.abbreviation</th>\n",
       "      <th>leadOrganization.stateTerritory.country.countryId</th>\n",
       "      <th>leadOrganization.stateTerritory.country.name</th>\n",
       "      <th>leadOrganization.stateTerritory.countryId</th>\n",
       "      <th>leadOrganization.stateTerritory.name</th>\n",
       "      <th>leadOrganization.stateTerritory.stateTerritoryId</th>\n",
       "      <th>leadOrganization.stateTerritoryId</th>\n",
       "      <th>leadOrganization.murepUnitId</th>\n",
       "      <th>leadOrganization.naorganization</th>\n",
       "      <th>leadOrganization.organizationTypePretty</th>\n",
       "    </tr>\n",
       "  </thead>\n",
       "  <tbody>\n",
       "    <tr>\n",
       "      <th>0</th>\n",
       "      <td>AVIATE</td>\n",
       "      <td>106528</td>\n",
       "      <td>Robust and Resilient Autonomy for Advanced Air...</td>\n",
       "      <td>[{'taxonomyNodeId': 10962, 'taxonomyRootId': 8...</td>\n",
       "      <td>[{'taxonomyNodeId': 10780, 'taxonomyRootId': 8...</td>\n",
       "      <td>3</td>\n",
       "      <td>3</td>\n",
       "      <td>6</td>\n",
       "      <td>&lt;p&gt;During this integrated effort, a number of ...</td>\n",
       "      <td>&lt;p&gt;The long-term goal of this project is to de...</td>\n",
       "      <td>...</td>\n",
       "      <td>US</td>\n",
       "      <td>236</td>\n",
       "      <td>United States</td>\n",
       "      <td>236</td>\n",
       "      <td>Illinois</td>\n",
       "      <td>39</td>\n",
       "      <td>39</td>\n",
       "      <td>145637</td>\n",
       "      <td>False</td>\n",
       "      <td>Academia</td>\n",
       "    </tr>\n",
       "  </tbody>\n",
       "</table>\n",
       "<p>1 rows × 91 columns</p>\n",
       "</div>"
      ],
      "text/plain": [
       "  acronym  projectId                                              title   \n",
       "0  AVIATE     106528  Robust and Resilient Autonomy for Advanced Air...  \\\n",
       "\n",
       "                                primaryTaxonomyNodes   \n",
       "0  [{'taxonomyNodeId': 10962, 'taxonomyRootId': 8...  \\\n",
       "\n",
       "                             additionalTaxonomyNodes  startTrl  currentTrl   \n",
       "0  [{'taxonomyNodeId': 10780, 'taxonomyRootId': 8...         3           3  \\\n",
       "\n",
       "   endTrl                                           benefits   \n",
       "0       6  <p>During this integrated effort, a number of ...  \\\n",
       "\n",
       "                                         description  ...   \n",
       "0  <p>The long-term goal of this project is to de...  ...  \\\n",
       "\n",
       "  leadOrganization.stateTerritory.country.abbreviation   \n",
       "0                                                 US    \\\n",
       "\n",
       "   leadOrganization.stateTerritory.country.countryId   \n",
       "0                                                236  \\\n",
       "\n",
       "   leadOrganization.stateTerritory.country.name   \n",
       "0                                 United States  \\\n",
       "\n",
       "   leadOrganization.stateTerritory.countryId   \n",
       "0                                        236  \\\n",
       "\n",
       "   leadOrganization.stateTerritory.name   \n",
       "0                              Illinois  \\\n",
       "\n",
       "  leadOrganization.stateTerritory.stateTerritoryId   \n",
       "0                                               39  \\\n",
       "\n",
       "  leadOrganization.stateTerritoryId leadOrganization.murepUnitId   \n",
       "0                                39                       145637  \\\n",
       "\n",
       "  leadOrganization.naorganization leadOrganization.organizationTypePretty  \n",
       "0                           False                                Academia  \n",
       "\n",
       "[1 rows x 91 columns]"
      ]
     },
     "execution_count": 81,
     "metadata": {},
     "output_type": "execute_result"
    }
   ],
   "source": [
    "pd.json_normalize(data2['project'])"
   ]
  },
  {
   "cell_type": "code",
   "execution_count": 17,
   "metadata": {},
   "outputs": [],
   "source": [
    "df.columns\n",
    "df=df[['accessLevel', 'landingPage', 'bureauCode', 'issued', '@type','title', 'programCode', 'distribution', 'accrualPeriodicity', 'theme','spatial', 'language', 'graphic-preview-description','series-name', 'creator', 'dataQuality', 'editor',]]"
   ]
  },
  {
   "cell_type": "code",
   "execution_count": 22,
   "metadata": {},
   "outputs": [],
   "source": [
    "data2=req.get('https://data.nasa.gov/data.json?search=NASA+Spacecraft+Materials+and+Processes+%28SM%26P%29')\n",
    "df2= pd.json_normalize(data,['dataset'])"
   ]
  },
  {
   "cell_type": "code",
   "execution_count": 113,
   "metadata": {},
   "outputs": [
    {
     "name": "stdout",
     "output_type": "stream",
     "text": [
      "<class 'pandas.core.frame.DataFrame'>\n",
      "RangeIndex: 22149 entries, 0 to 22148\n",
      "Data columns (total 25 columns):\n",
      " #   Column                       Non-Null Count  Dtype \n",
      "---  ------                       --------------  ----- \n",
      " 0   bureauCode                   22138 non-null  object\n",
      " 1   references                   11670 non-null  object\n",
      " 2   keyword                      22145 non-null  object\n",
      " 3   programCode                  22138 non-null  object\n",
      " 4   distribution                 12858 non-null  object\n",
      " 5   accrualPeriodicity           12141 non-null  object\n",
      " 6   theme                        21168 non-null  object\n",
      " 7   license                      7019 non-null   object\n",
      " 8   citation                     9789 non-null   object\n",
      " 9   temporal                     10361 non-null  object\n",
      " 10  spatial                      9735 non-null   object\n",
      " 11  language                     9940 non-null   object\n",
      " 12  graphic-preview-description  4559 non-null   object\n",
      " 13  graphic-preview-file         5396 non-null   object\n",
      " 14  data-presentation-form       1943 non-null   object\n",
      " 15  release-place                3328 non-null   object\n",
      " 16  series-name                  2751 non-null   object\n",
      " 17  creator                      3712 non-null   object\n",
      " 18  dataQuality                  157 non-null    object\n",
      " 19  editor                       108 non-null    object\n",
      " 20  issue-identification         66 non-null     object\n",
      " 21  describedBy                  169 non-null    object\n",
      " 22  describedByType              14 non-null     object\n",
      " 23  rights                       3 non-null      object\n",
      " 24  systemOfRecords              1 non-null      object\n",
      "dtypes: object(25)\n",
      "memory usage: 4.2+ MB\n"
     ]
    }
   ],
   "source": [
    "df2[df2.columns[df2.isna().any()].tolist()].info()"
   ]
  },
  {
   "cell_type": "code",
   "execution_count": 165,
   "metadata": {},
   "outputs": [],
   "source": [
    "#limpieza sobre datos de meteoritos"
   ]
  },
  {
   "cell_type": "code",
   "execution_count": 154,
   "metadata": {},
   "outputs": [
    {
     "name": "stdout",
     "output_type": "stream",
     "text": [
      "<class 'pandas.core.frame.DataFrame'>\n",
      "RangeIndex: 45716 entries, 0 to 45715\n",
      "Data columns (total 10 columns):\n",
      " #   Column       Non-Null Count  Dtype  \n",
      "---  ------       --------------  -----  \n",
      " 0   name         45716 non-null  object \n",
      " 1   id           45716 non-null  int64  \n",
      " 2   nametype     45716 non-null  object \n",
      " 3   recclass     45716 non-null  object \n",
      " 4   mass (g)     45585 non-null  float64\n",
      " 5   fall         45716 non-null  object \n",
      " 6   year         45425 non-null  float64\n",
      " 7   reclat       38401 non-null  float64\n",
      " 8   reclong      38401 non-null  float64\n",
      " 9   GeoLocation  38401 non-null  object \n",
      "dtypes: float64(4), int64(1), object(5)\n",
      "memory usage: 3.5+ MB\n"
     ]
    }
   ],
   "source": [
    "MET=pd.read_csv('Meteorite_Landings.csv')\n",
    "MET.info()"
   ]
  },
  {
   "cell_type": "code",
   "execution_count": 155,
   "metadata": {},
   "outputs": [],
   "source": [
    "MET[['mass (g)', 'year', 'reclat', 'reclong']]=MET [['mass (g)','year','reclat', 'reclong']].fillna(0.00)\n",
    "MET = MET.rename(columns={'mass (g)': 'mass_g'})"
   ]
  },
  {
   "cell_type": "code",
   "execution_count": 160,
   "metadata": {},
   "outputs": [],
   "source": [
    "MET['year']=MET['year'].astype(int)"
   ]
  },
  {
   "cell_type": "code",
   "execution_count": 161,
   "metadata": {},
   "outputs": [],
   "source": [
    "MET['GeoLocation']=MET ['GeoLocation'].fillna('desconocido')"
   ]
  },
  {
   "cell_type": "code",
   "execution_count": 162,
   "metadata": {},
   "outputs": [
    {
     "data": {
      "text/html": [
       "<div>\n",
       "<style scoped>\n",
       "    .dataframe tbody tr th:only-of-type {\n",
       "        vertical-align: middle;\n",
       "    }\n",
       "\n",
       "    .dataframe tbody tr th {\n",
       "        vertical-align: top;\n",
       "    }\n",
       "\n",
       "    .dataframe thead th {\n",
       "        text-align: right;\n",
       "    }\n",
       "</style>\n",
       "<table border=\"1\" class=\"dataframe\">\n",
       "  <thead>\n",
       "    <tr style=\"text-align: right;\">\n",
       "      <th></th>\n",
       "      <th>name</th>\n",
       "      <th>id</th>\n",
       "      <th>nametype</th>\n",
       "      <th>recclass</th>\n",
       "      <th>mass_g</th>\n",
       "      <th>fall</th>\n",
       "      <th>year</th>\n",
       "      <th>reclat</th>\n",
       "      <th>reclong</th>\n",
       "      <th>GeoLocation</th>\n",
       "    </tr>\n",
       "  </thead>\n",
       "  <tbody>\n",
       "    <tr>\n",
       "      <th>0</th>\n",
       "      <td>Aachen</td>\n",
       "      <td>1</td>\n",
       "      <td>Valid</td>\n",
       "      <td>L5</td>\n",
       "      <td>21.0</td>\n",
       "      <td>Fell</td>\n",
       "      <td>1880</td>\n",
       "      <td>50.77500</td>\n",
       "      <td>6.08333</td>\n",
       "      <td>(50.775, 6.08333)</td>\n",
       "    </tr>\n",
       "    <tr>\n",
       "      <th>1</th>\n",
       "      <td>Aarhus</td>\n",
       "      <td>2</td>\n",
       "      <td>Valid</td>\n",
       "      <td>H6</td>\n",
       "      <td>720.0</td>\n",
       "      <td>Fell</td>\n",
       "      <td>1951</td>\n",
       "      <td>56.18333</td>\n",
       "      <td>10.23333</td>\n",
       "      <td>(56.18333, 10.23333)</td>\n",
       "    </tr>\n",
       "    <tr>\n",
       "      <th>2</th>\n",
       "      <td>Abee</td>\n",
       "      <td>6</td>\n",
       "      <td>Valid</td>\n",
       "      <td>EH4</td>\n",
       "      <td>107000.0</td>\n",
       "      <td>Fell</td>\n",
       "      <td>1952</td>\n",
       "      <td>54.21667</td>\n",
       "      <td>-113.00000</td>\n",
       "      <td>(54.21667, -113.0)</td>\n",
       "    </tr>\n",
       "    <tr>\n",
       "      <th>3</th>\n",
       "      <td>Acapulco</td>\n",
       "      <td>10</td>\n",
       "      <td>Valid</td>\n",
       "      <td>Acapulcoite</td>\n",
       "      <td>1914.0</td>\n",
       "      <td>Fell</td>\n",
       "      <td>1976</td>\n",
       "      <td>16.88333</td>\n",
       "      <td>-99.90000</td>\n",
       "      <td>(16.88333, -99.9)</td>\n",
       "    </tr>\n",
       "    <tr>\n",
       "      <th>4</th>\n",
       "      <td>Achiras</td>\n",
       "      <td>370</td>\n",
       "      <td>Valid</td>\n",
       "      <td>L6</td>\n",
       "      <td>780.0</td>\n",
       "      <td>Fell</td>\n",
       "      <td>1902</td>\n",
       "      <td>-33.16667</td>\n",
       "      <td>-64.95000</td>\n",
       "      <td>(-33.16667, -64.95)</td>\n",
       "    </tr>\n",
       "    <tr>\n",
       "      <th>...</th>\n",
       "      <td>...</td>\n",
       "      <td>...</td>\n",
       "      <td>...</td>\n",
       "      <td>...</td>\n",
       "      <td>...</td>\n",
       "      <td>...</td>\n",
       "      <td>...</td>\n",
       "      <td>...</td>\n",
       "      <td>...</td>\n",
       "      <td>...</td>\n",
       "    </tr>\n",
       "    <tr>\n",
       "      <th>45711</th>\n",
       "      <td>Zillah 002</td>\n",
       "      <td>31356</td>\n",
       "      <td>Valid</td>\n",
       "      <td>Eucrite</td>\n",
       "      <td>172.0</td>\n",
       "      <td>Found</td>\n",
       "      <td>1990</td>\n",
       "      <td>29.03700</td>\n",
       "      <td>17.01850</td>\n",
       "      <td>(29.037, 17.0185)</td>\n",
       "    </tr>\n",
       "    <tr>\n",
       "      <th>45712</th>\n",
       "      <td>Zinder</td>\n",
       "      <td>30409</td>\n",
       "      <td>Valid</td>\n",
       "      <td>Pallasite, ungrouped</td>\n",
       "      <td>46.0</td>\n",
       "      <td>Found</td>\n",
       "      <td>1999</td>\n",
       "      <td>13.78333</td>\n",
       "      <td>8.96667</td>\n",
       "      <td>(13.78333, 8.96667)</td>\n",
       "    </tr>\n",
       "    <tr>\n",
       "      <th>45713</th>\n",
       "      <td>Zlin</td>\n",
       "      <td>30410</td>\n",
       "      <td>Valid</td>\n",
       "      <td>H4</td>\n",
       "      <td>3.3</td>\n",
       "      <td>Found</td>\n",
       "      <td>1939</td>\n",
       "      <td>49.25000</td>\n",
       "      <td>17.66667</td>\n",
       "      <td>(49.25, 17.66667)</td>\n",
       "    </tr>\n",
       "    <tr>\n",
       "      <th>45714</th>\n",
       "      <td>Zubkovsky</td>\n",
       "      <td>31357</td>\n",
       "      <td>Valid</td>\n",
       "      <td>L6</td>\n",
       "      <td>2167.0</td>\n",
       "      <td>Found</td>\n",
       "      <td>2003</td>\n",
       "      <td>49.78917</td>\n",
       "      <td>41.50460</td>\n",
       "      <td>(49.78917, 41.5046)</td>\n",
       "    </tr>\n",
       "    <tr>\n",
       "      <th>45715</th>\n",
       "      <td>Zulu Queen</td>\n",
       "      <td>30414</td>\n",
       "      <td>Valid</td>\n",
       "      <td>L3.7</td>\n",
       "      <td>200.0</td>\n",
       "      <td>Found</td>\n",
       "      <td>1976</td>\n",
       "      <td>33.98333</td>\n",
       "      <td>-115.68333</td>\n",
       "      <td>(33.98333, -115.68333)</td>\n",
       "    </tr>\n",
       "  </tbody>\n",
       "</table>\n",
       "<p>45716 rows × 10 columns</p>\n",
       "</div>"
      ],
      "text/plain": [
       "             name     id nametype              recclass    mass_g   fall   \n",
       "0          Aachen      1    Valid                    L5      21.0   Fell  \\\n",
       "1          Aarhus      2    Valid                    H6     720.0   Fell   \n",
       "2            Abee      6    Valid                   EH4  107000.0   Fell   \n",
       "3        Acapulco     10    Valid           Acapulcoite    1914.0   Fell   \n",
       "4         Achiras    370    Valid                    L6     780.0   Fell   \n",
       "...           ...    ...      ...                   ...       ...    ...   \n",
       "45711  Zillah 002  31356    Valid               Eucrite     172.0  Found   \n",
       "45712      Zinder  30409    Valid  Pallasite, ungrouped      46.0  Found   \n",
       "45713        Zlin  30410    Valid                    H4       3.3  Found   \n",
       "45714   Zubkovsky  31357    Valid                    L6    2167.0  Found   \n",
       "45715  Zulu Queen  30414    Valid                  L3.7     200.0  Found   \n",
       "\n",
       "       year    reclat    reclong             GeoLocation  \n",
       "0      1880  50.77500    6.08333       (50.775, 6.08333)  \n",
       "1      1951  56.18333   10.23333    (56.18333, 10.23333)  \n",
       "2      1952  54.21667 -113.00000      (54.21667, -113.0)  \n",
       "3      1976  16.88333  -99.90000       (16.88333, -99.9)  \n",
       "4      1902 -33.16667  -64.95000     (-33.16667, -64.95)  \n",
       "...     ...       ...        ...                     ...  \n",
       "45711  1990  29.03700   17.01850       (29.037, 17.0185)  \n",
       "45712  1999  13.78333    8.96667     (13.78333, 8.96667)  \n",
       "45713  1939  49.25000   17.66667       (49.25, 17.66667)  \n",
       "45714  2003  49.78917   41.50460     (49.78917, 41.5046)  \n",
       "45715  1976  33.98333 -115.68333  (33.98333, -115.68333)  \n",
       "\n",
       "[45716 rows x 10 columns]"
      ]
     },
     "execution_count": 162,
     "metadata": {},
     "output_type": "execute_result"
    }
   ],
   "source": [
    "MET"
   ]
  },
  {
   "cell_type": "code",
   "execution_count": 163,
   "metadata": {},
   "outputs": [
    {
     "name": "stdout",
     "output_type": "stream",
     "text": [
      "<class 'pandas.core.frame.DataFrame'>\n",
      "RangeIndex: 45716 entries, 0 to 45715\n",
      "Data columns (total 10 columns):\n",
      " #   Column       Non-Null Count  Dtype  \n",
      "---  ------       --------------  -----  \n",
      " 0   name         45716 non-null  object \n",
      " 1   id           45716 non-null  int64  \n",
      " 2   nametype     45716 non-null  object \n",
      " 3   recclass     45716 non-null  object \n",
      " 4   mass_g       45716 non-null  float64\n",
      " 5   fall         45716 non-null  object \n",
      " 6   year         45716 non-null  int32  \n",
      " 7   reclat       45716 non-null  float64\n",
      " 8   reclong      45716 non-null  float64\n",
      " 9   GeoLocation  45716 non-null  object \n",
      "dtypes: float64(3), int32(1), int64(1), object(5)\n",
      "memory usage: 3.3+ MB\n"
     ]
    }
   ],
   "source": [
    "MET.info()"
   ]
  },
  {
   "attachments": {},
   "cell_type": "markdown",
   "metadata": {},
   "source": [
    "Para mostrar los conocimientos aprendidos usare brevemente en sql la incorporacion de estos datos. que mas adelante procedere a especificarlos."
   ]
  },
  {
   "cell_type": "code",
   "execution_count": 115,
   "metadata": {},
   "outputs": [],
   "source": [
    "import mysql.connector as conn"
   ]
  },
  {
   "cell_type": "code",
   "execution_count": 116,
   "metadata": {},
   "outputs": [],
   "source": [
    "conexion = conn.connect(host='127.0.0.1',                      #nombre del server\n",
    "                        user='root',                           #nombre del usuario\n",
    "                        passwd='Sebitas18Da')                  #contraseña del server\n",
    "cursor = conexion.cursor()"
   ]
  },
  {
   "cell_type": "code",
   "execution_count": 117,
   "metadata": {},
   "outputs": [],
   "source": [
    "cursor.execute('drop database if exists Nasa;')\n",
    "cursor.execute('create database Nasa;')"
   ]
  },
  {
   "cell_type": "code",
   "execution_count": 118,
   "metadata": {},
   "outputs": [],
   "source": [
    "db=conn.connect(host='127.0.0.1',\n",
    "                user='root',\n",
    "                passwd='Sebitas18Da',\n",
    "                database='Nasa')\n",
    "cursor=db.cursor()"
   ]
  },
  {
   "cell_type": "code",
   "execution_count": 119,
   "metadata": {},
   "outputs": [],
   "source": [
    "def insertor(df,table):\n",
    "    nombre_table2=table\n",
    "    nombre_columns2=','.join(df.columns)\n",
    "    for e in range(len(df)):\n",
    "        valores=tuple(df.iloc[e].values)\n",
    "        insert_query = f'insert into {nombre_table2} ({nombre_columns2}) values {valores}'\n",
    "        cursor.execute(insert_query)"
   ]
  },
  {
   "cell_type": "code",
   "execution_count": 164,
   "metadata": {},
   "outputs": [],
   "source": [
    "cursor.execute('drop table if exists Meteoritos;')\n",
    "query='''\n",
    "create table Meteoritos (\n",
    "name varchar(100),\n",
    "id int primary key not null,\n",
    "nametype varchar(40),\n",
    "recclass varchar(100),\n",
    "mass_g float,\n",
    "fall varchar(40),\n",
    "year int,\n",
    "reclat float,\n",
    "reclong float,\n",
    "GeoLocation varchar(100))'''\n",
    "cursor.execute(query)\n",
    "insertor(MET,'Meteoritos')"
   ]
  },
  {
   "cell_type": "code",
   "execution_count": null,
   "metadata": {},
   "outputs": [],
   "source": []
  }
 ],
 "metadata": {
  "kernelspec": {
   "display_name": "Python 3",
   "language": "python",
   "name": "python3"
  },
  "language_info": {
   "codemirror_mode": {
    "name": "ipython",
    "version": 3
   },
   "file_extension": ".py",
   "mimetype": "text/x-python",
   "name": "python",
   "nbconvert_exporter": "python",
   "pygments_lexer": "ipython3",
   "version": "3.9.2rc1"
  },
  "orig_nbformat": 4
 },
 "nbformat": 4,
 "nbformat_minor": 2
}
